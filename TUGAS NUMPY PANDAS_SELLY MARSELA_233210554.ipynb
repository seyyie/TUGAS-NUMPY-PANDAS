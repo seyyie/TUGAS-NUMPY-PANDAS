{
 "cells": [
  {
   "cell_type": "markdown",
   "metadata": {},
   "source": [
    "# TUGAS ARRAY"
   ]
  },
  {
   "cell_type": "code",
   "execution_count": 1,
   "metadata": {},
   "outputs": [
    {
     "name": "stdout",
     "output_type": "stream",
     "text": [
      "DataFrame setelah menambahkan kolom 'Domisili_Asal':\n",
      "  Nama Kelas Gender     Nomor HP Domisili_Asal\n",
      "0  Ana    2A  Cewek  08113322582     Pekanbaru\n",
      "1  Anu    2B  Cowok  08129988563     Luar kota\n",
      "2  Ano    2C  Cowok  08137896541     Pekanbaru\n",
      "3  Ani    2D  Cewek  08144447789     Pekanbaru\n",
      "4  Ane    2E  Cewek  08158886665     Luar kota\n",
      "5  Abu    2F  Cowok  08173337744     Luar kota\n",
      "6  Abi    2G  Cowok  08198877444     Pekanbaru\n",
      "\n",
      "\n"
     ]
    }
   ],
   "source": [
    "# Tambahkan kolom baru yaitu “domisili_asal”, yang isinya: “Pekanbaru” dan “luar kota”\n",
    "\n",
    "import pandas as pd\n",
    "\n",
    "# Membuat DataFrame\n",
    "data= {'Nama': ['Ana', 'Anu', 'Ano', 'Ani', 'Ane', 'Abu', 'Abi'], \n",
    "       'Kelas': ['2A', '2B', '2C', '2D', '2E', '2F', '2G'], \n",
    "       'Gender': ['Cewek', 'Cowok', 'Cowok', 'Cewek', 'Cewek', 'Cowok', 'Cowok'],\n",
    "        'Nomor HP': ['08113322582', '08129988563', '08137896541', '08144447789', '08158886665', '08173337744', '08198877444']}\n",
    "\n",
    "df = pd.DataFrame(data)\n",
    "\n",
    "#Menambahkan kolom baru\n",
    "df['Domisili_Asal'] = ['Pekanbaru', 'Luar kota', 'Pekanbaru', 'Pekanbaru', 'Luar kota', 'Luar kota', 'Pekanbaru'] \n",
    "print(\"DataFrame setelah menambahkan kolom 'Domisili_Asal':\") \n",
    "print(df) \n",
    "print(\"\\n\")"
   ]
  },
  {
   "cell_type": "code",
   "execution_count": 59,
   "metadata": {},
   "outputs": [
    {
     "name": "stdout",
     "output_type": "stream",
     "text": [
      "DataFrame setelah menghapus kolom 'Nomor HP':\n",
      "  Nama Kelas Gender\n",
      "0  Ana    2A  Cewek\n",
      "1  Anu    2B  Cowok\n",
      "2  Ano    2C  Cowok\n",
      "3  Ani    2D  Cewek\n",
      "4  Ane    2E  Cewek\n",
      "5  Abu    2F  Cowok\n",
      "6  Abi    2G  Cowok\n",
      "\n",
      "\n"
     ]
    }
   ],
   "source": [
    "# Hapus kolom Nomor_HP\n",
    "\n",
    "import pandas as pd\n",
    "\n",
    "# Membuat DataFrame\n",
    "data =  {'Nama': ['Ana', 'Anu', 'Ano', 'Ani', 'Ane', 'Abu', 'Abi'], \n",
    "       'Kelas': ['2A', '2B', '2C', '2D', '2E', '2F', '2G'], \n",
    "       'Gender': ['Cewek', 'Cowok', 'Cowok', 'Cewek', 'Cewek', 'Cowok', 'Cowok'],\n",
    "        'Nomor HP': ['08113322582', '08129988563', '08137896541', '08144447789', '08158886665', '08173337744', '08198877444']}\n",
    "\n",
    "df = pd.DataFrame(data)\n",
    "\n",
    "#Menghapus kolom 'Kota'\n",
    "df= df.drop(columns=['Nomor HP'])\n",
    "print(\"DataFrame setelah menghapus kolom 'Nomor HP':\")\n",
    "print(df)\n",
    "print(\"\\n\")"
   ]
  },
  {
   "cell_type": "code",
   "execution_count": 60,
   "metadata": {},
   "outputs": [
    {
     "name": "stdout",
     "output_type": "stream",
     "text": [
      "DataFrame setelah menambahkan kolom 'Usia':\n",
      "  Nama Kelas Gender     Nomor HP Usia\n",
      "0  Ana    2A  Cewek  08113322582   19\n",
      "1  Anu    2B  Cowok  08129988563   20\n",
      "2  Ano    2C  Cowok  08137896541   20\n",
      "3  Ani    2D  Cewek  08144447789   19\n",
      "4  Ane    2E  Cewek  08158886665   20\n",
      "5  Abu    2F  Cowok  08173337744   19\n",
      "6  Abi    2G  Cowok  08198877444   21\n",
      "\n",
      "\n"
     ]
    }
   ],
   "source": [
    "# Tambahkan kolom “usia”, isinya bebas\n",
    "\n",
    "import pandas as pd\n",
    "\n",
    "# Membuat DataFrame\n",
    "data= {'Nama': ['Ana', 'Anu', 'Ano', 'Ani', 'Ane', 'Abu', 'Abi'], \n",
    "       'Kelas': ['2A', '2B', '2C', '2D', '2E', '2F', '2G'], \n",
    "       'Gender': ['Cewek', 'Cowok', 'Cowok', 'Cewek', 'Cewek', 'Cowok', 'Cowok'],\n",
    "        'Nomor HP': ['08113322582', '08129988563', '08137896541', '08144447789', '08158886665', '08173337744', '08198877444']}\n",
    "\n",
    "df = pd.DataFrame(data)\n",
    "\n",
    "#Menambahkan kolom baru\n",
    "df['Usia'] = ['19', '20', '20', '19', '20', '19', '21'] \n",
    "print(\"DataFrame setelah menambahkan kolom 'Usia':\") \n",
    "print(df) \n",
    "print(\"\\n\")"
   ]
  },
  {
   "cell_type": "code",
   "execution_count": 71,
   "metadata": {},
   "outputs": [
    {
     "name": "stdout",
     "output_type": "stream",
     "text": [
      "Rata-rata usia: 19.714285714285715\n",
      "\n",
      "\n",
      "Jumlah total usia:\n",
      "138\n"
     ]
    }
   ],
   "source": [
    "# Hitung rata-rata usia dengan perintah “mean” dan total usia dengan perintah “sum”\n",
    "\n",
    "import pandas as pd\n",
    "\n",
    "# Membuat DataFrame\n",
    "data =  {'Nama': ['Ana', 'Anu', 'Ano', 'Ani', 'Ane', 'Abu', 'Abi'], \n",
    "       'Kelas': ['2A', '2B', '2C', '2D', '2E', '2F', '2G'],\n",
    "       'Gender': ['Cewek', 'Cowok', 'Cowok', 'Cewek', 'Cewek', 'Cowok', 'Cowok'],\n",
    "        'Nomor HP': ['08113322582', '08129988563', '08137896541', '08144447789', '08158886665', '08173337744', '08198877444'],\n",
    "        'Usia' :  [19, 20, 20, 19, 20, 19, 21] }\n",
    "\n",
    "\n",
    "df= pd.DataFrame(data)\n",
    "\n",
    "# Menghitung rata-rata usia\n",
    "rata_Usia = df['Usia'].mean()\n",
    "print(\"Rata-rata usia:\", rata_Usia) \n",
    "print(\"\\n\")\n",
    "\n",
    "#Menghitung jumlah total usia\n",
    "jumlah_usia = df['Usia'].sum()\n",
    "print(\"Jumlah total usia:\")\n",
    "print(jumlah_usia)"
   ]
  },
  {
   "cell_type": "code",
   "execution_count": 66,
   "metadata": {},
   "outputs": [
    {
     "name": "stdout",
     "output_type": "stream",
     "text": [
      "Jumlah orang per kota:\n",
      "Domisili_Asal\n",
      "Pekanbaru    4\n",
      "Luar kota    3\n",
      "Name: count, dtype: int64\n"
     ]
    }
   ],
   "source": [
    "# Hitung berapa yang berasal dari “pekanbaru” dan “luar kota”\n",
    "\n",
    "import pandas as pd\n",
    "\n",
    "#Membuat DataFrame\n",
    "data=  {'Nama': ['Ana', 'Anu', 'Ano', 'Ani', 'Ane', 'Abu', 'Abi'], \n",
    "       'Kelas': ['2A', '2B', '2C', '2D', '2E', '2F', '2G'],\n",
    "       'Gender': ['Cewek', 'Cowok', 'Cowok', 'Cewek', 'Cewek', 'Cowok', 'Cowok'],\n",
    "        'Nomor HP': ['08113322582', '08129988563', '08137896541', '08144447789', '08158886665', '08173337744', '08198877444'],\n",
    "        'Domisili_Asal' :  ['Pekanbaru', 'Luar kota', 'Pekanbaru', 'Pekanbaru', 'Luar kota', 'Luar kota', 'Pekanbaru'] }\n",
    "\n",
    "df = pd.DataFrame(data)\n",
    "\n",
    "#Menghitung jumlah orang di setiap kota\n",
    "jumlah_per_kota = df['Domisili_Asal'].value_counts()\n",
    "print(\"Jumlah orang per kota:\")\n",
    "print(jumlah_per_kota)"
   ]
  }
 ],
 "metadata": {
  "kernelspec": {
   "display_name": "Python 3",
   "language": "python",
   "name": "python3"
  },
  "language_info": {
   "codemirror_mode": {
    "name": "ipython",
    "version": 3
   },
   "file_extension": ".py",
   "mimetype": "text/x-python",
   "name": "python",
   "nbconvert_exporter": "python",
   "pygments_lexer": "ipython3",
   "version": "3.12.2"
  }
 },
 "nbformat": 4,
 "nbformat_minor": 2
}
